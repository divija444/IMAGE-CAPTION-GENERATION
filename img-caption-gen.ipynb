{
 "cells": [
  {
   "cell_type": "markdown",
   "id": "9a71e1e8",
   "metadata": {
    "papermill": {
     "duration": 0.020041,
     "end_time": "2023-05-25T11:16:38.084480",
     "exception": false,
     "start_time": "2023-05-25T11:16:38.064439",
     "status": "completed"
    },
    "tags": []
   },
   "source": []
  },
  {
   "cell_type": "markdown",
   "id": "153cf74d",
   "metadata": {
    "papermill": {
     "duration": 0.010308,
     "end_time": "2023-05-25T11:16:38.111162",
     "exception": false,
     "start_time": "2023-05-25T11:16:38.100854",
     "status": "completed"
    },
    "tags": []
   },
   "source": [
    "# <center><font size = 3><span style=\"color:#422711\"> <p style=\"background-color:#422711;font-family:newtimeroman;color:#F6923D;font-size:200%;text-align:center;border-radius:100px 10px;\">INTRODUCTION</p>   </span></font></center>\n",
    " \n",
    "<font size = 5><span style=\"color:#A8642A;font-family:'Times New Roman'\">Notebook Overview : </span></font>\n",
    "\n",
    "* <font size = 3><span style=\"color:#3A3E59;font-family:'Times New Roman'\"> This notebook contains:  </span></font>\n",
    "    1. <font size = 3><span style=\"color:#3A3E59;font-family:'Times New Roman'\">A Encoder Decoder Model which takes an image as an input and outputs a caption </span></font>\n",
    "    2. <font size = 3><span style = \"color:#3A3E59;font-family:'Times New Roman'\">The Encoder used is <a href = \"https://huggingface.co/google/vit-base-patch16-224\"><b>Vision Transformer </b></a> </span></font>\n",
    "    3. <font size =3><span style = \"color:#3A3E59;font-family:'Times New Roman'\">The Decoder used is <a href = \"https://huggingface.co/gpt2\"><b>GPT2</b></a></span></font>\n",
    "    4. <font size =3><span style = \"color:#3A3E59;font-family:'Times New Roman'\"> The model is trained on <b>Flickr8k dataset</b></span></font>\n",
    "    5. <font size =3><span style = \"color:#3A3E59;font-family:'Times New Roman'\"> The hugging face <a href = \"https://huggingface.co/docs/transformers/main_classes/trainer#transformers.Seq2SeqTrainer\"><b>Seq2SeqTrainer</b></a> is used for finetuning the model</span></font>\n",
    "   \n",
    "*  <font size = 3><span style=\"color:#3A3E59;font-family:'Times New Roman'\">The hugging face <b> transformers</b> library is used to finetune the model and <b> Pytorch</b> for data processing </span></font>\n"
   ]
  },
  {
   "cell_type": "markdown",
   "id": "9e652098",
   "metadata": {
    "papermill": {
     "duration": 0.010243,
     "end_time": "2023-05-25T11:16:38.131895",
     "exception": false,
     "start_time": "2023-05-25T11:16:38.121652",
     "status": "completed"
    },
    "tags": []
   },
   "source": [
    "<p style=\"background-color:#422711;font-family:newtimeroman;color:#F6923D;font-size:110%;text-align:center;border-radius:200px 10px;\">IMAGE CAPTIONING</p>\n",
    "<br>\n",
    "\n",
    "<font size = 3><span style = \"color:#3A3E59;font-family:'Times New Roman'\">Image Captioning is the task of describing the content of an image in words. This task lies at the intersection of computer vision and natural language processing. Most image captioning systems use an encoder-decoder framework, where an input image is encoded into an intermediate representation of the information in the image, and then decoded into a descriptive text sequence.</span></font>\n",
    "<br>\n",
    "\n",
    "<img src=\"https://raw.githubusercontent.com/danieljl/keras-image-captioning/master/results-without-errors.jpg\">\n",
    "\n"
   ]
  },
  {
   "cell_type": "markdown",
   "id": "318342e4",
   "metadata": {
    "papermill": {
     "duration": 0.010297,
     "end_time": "2023-05-25T11:16:38.154070",
     "exception": false,
     "start_time": "2023-05-25T11:16:38.143773",
     "status": "completed"
    },
    "tags": []
   },
   "source": [
    "<a id='top'></a>\n",
    "<p style=\"background-color:#422711;font-family:newtimeroman;color:#F6923D;font-size:200%;text-align:center;border-radius:200px 10px;\">TABLE OF CONTENTS</p>  \n",
    "\n",
    "- [1. Imports](#1)\n",
    "- [2. Hyperparameters](#2)\n",
    "- [3. Helper Functions](#3)\n",
    "- [4. Dataset](#4)\n",
    "  * .[4.1 Feature Extractor and Tokenizer](#4.4)\n",
    "  * [4.2 Transforms and dataframe](#4.1)\n",
    "  * [4.3 Dataset Class](#4.2)\n",
    "  * .[4.4 Train and validation dataset](#4.3)\n",
    "- [5. Model Building](#5)\n",
    "    * .[5.1 Model Initialization](#5.2)\n",
    "- [6. Training](#6)\n",
    "    * .[6.1 Training Arguments](#6.1)\n",
    "    * .[6.2 Training using Seq2SeqTrainer](#6.2)\n",
    "- .[7. Predictions](#7)"
   ]
  },
  {
   "cell_type": "code",
   "execution_count": 1,
   "id": "ceadcfad",
   "metadata": {
    "_cell_guid": "b1076dfc-b9ad-4769-8c92-a6c4dae69d19",
    "_kg_hide-input": true,
    "_uuid": "8f2839f25d086af736a60e9eeb907d3b93b6e0e5",
    "execution": {
     "iopub.execute_input": "2023-05-25T11:16:38.177272Z",
     "iopub.status.busy": "2023-05-25T11:16:38.176746Z",
     "iopub.status.idle": "2023-05-25T11:17:21.469009Z",
     "shell.execute_reply": "2023-05-25T11:17:21.467798Z"
    },
    "papermill": {
     "duration": 43.306972,
     "end_time": "2023-05-25T11:17:21.471621",
     "exception": false,
     "start_time": "2023-05-25T11:16:38.164649",
     "status": "completed"
    },
    "tags": []
   },
   "outputs": [],
   "source": [
    "from IPython.display import clear_output\n",
    "!pip install rouge_score -q\n",
    "!pip install deep-phonemizer -q\n",
    "clear_output()"
   ]
  },
  {
   "cell_type": "markdown",
   "id": "c2b07f22",
   "metadata": {
    "papermill": {
     "duration": 0.010418,
     "end_time": "2023-05-25T11:17:21.492967",
     "exception": false,
     "start_time": "2023-05-25T11:17:21.482549",
     "status": "completed"
    },
    "tags": []
   },
   "source": [
    "### Imports"
   ]
  },
  {
   "cell_type": "code",
   "execution_count": 2,
   "id": "801451f0",
   "metadata": {
    "_kg_hide-input": true,
    "execution": {
     "iopub.execute_input": "2023-05-25T11:17:21.516706Z",
     "iopub.status.busy": "2023-05-25T11:17:21.515706Z",
     "iopub.status.idle": "2023-05-25T11:17:29.902172Z",
     "shell.execute_reply": "2023-05-25T11:17:29.900921Z"
    },
    "papermill": {
     "duration": 8.401214,
     "end_time": "2023-05-25T11:17:29.904701",
     "exception": false,
     "start_time": "2023-05-25T11:17:21.503487",
     "status": "completed"
    },
    "tags": []
   },
   "outputs": [
    {
     "name": "stdout",
     "output_type": "stream",
     "text": [
      "1 GPU(s) available.\n",
      "GPU to be used : Tesla P100-PCIE-16GB\n"
     ]
    }
   ],
   "source": [
    "import os\n",
    "\n",
    "import datasets\n",
    "import numpy as np\n",
    "import pandas as pd\n",
    "from PIL import Image\n",
    "from pathlib import Path\n",
    "from tqdm.auto import tqdm\n",
    "import multiprocessing as mp\n",
    "import matplotlib.pyplot as plt\n",
    "from sklearn.model_selection import train_test_split\n",
    "\n",
    "import torch\n",
    "import torch.nn as nn\n",
    "import torch.nn.functional as F\n",
    "from torchvision import io, transforms\n",
    "from torch.utils.data import Dataset, DataLoader, random_split\n",
    "\n",
    "from transformers import Seq2SeqTrainer ,Seq2SeqTrainingArguments\n",
    "from transformers import VisionEncoderDecoderModel , ViTFeatureExtractor\n",
    "from transformers import AutoTokenizer ,  GPT2Config , default_data_collator\n",
    "\n",
    "\n",
    "if torch.cuda.is_available():    \n",
    "\n",
    "    device = torch.device(\"cuda\")\n",
    "\n",
    "    print('%d GPU(s) available.' % torch.cuda.device_count())\n",
    "\n",
    "    print('GPU to be used :', torch.cuda.get_device_name(0))\n",
    "\n",
    "else:\n",
    "    print('No GPU available.')\n",
    "    device = torch.device(\"cpu\")\n"
   ]
  },
  {
   "cell_type": "markdown",
   "id": "090245a5",
   "metadata": {
    "papermill": {
     "duration": 0.016931,
     "end_time": "2023-05-25T11:17:29.932688",
     "exception": false,
     "start_time": "2023-05-25T11:17:29.915757",
     "status": "completed"
    },
    "tags": []
   },
   "source": [
    "<a id=\"2\"></a>\n",
    "# <p style=\"background-color:#422711;font-family:newtimeroman;color:#F6923D;font-size:140%;text-align:center;border-radius:200px 10px;\">2. HYPERPARAMETERS</p>\n",
    "#### [Top ↑](#top)"
   ]
  },
  {
   "cell_type": "code",
   "execution_count": 3,
   "id": "58e7186c",
   "metadata": {
    "_kg_hide-input": false,
    "execution": {
     "iopub.execute_input": "2023-05-25T11:17:29.957422Z",
     "iopub.status.busy": "2023-05-25T11:17:29.956303Z",
     "iopub.status.idle": "2023-05-25T11:17:29.964084Z",
     "shell.execute_reply": "2023-05-25T11:17:29.963085Z"
    },
    "papermill": {
     "duration": 0.022278,
     "end_time": "2023-05-25T11:17:29.966194",
     "exception": false,
     "start_time": "2023-05-25T11:17:29.943916",
     "status": "completed"
    },
    "tags": []
   },
   "outputs": [],
   "source": [
    "os.environ[\"WANDB_DISABLED\"] = \"true\"\n",
    "class config : \n",
    "    ENCODER = \"google/vit-base-patch16-224\"\n",
    "    DECODER = \"gpt2\"\n",
    "    TRAIN_BATCH_SIZE = 8\n",
    "    VAL_BATCH_SIZE = 8\n",
    "    VAL_EPOCHS = 1\n",
    "    LR = 5e-5\n",
    "    SEED = 42\n",
    "    MAX_LEN = 128\n",
    "    SUMMARY_LEN = 20\n",
    "    WEIGHT_DECAY = 0.01\n",
    "    MEAN = (0.485, 0.456, 0.406)\n",
    "    STD = (0.229, 0.224, 0.225)\n",
    "    TRAIN_PCT = 0.95\n",
    "    NUM_WORKERS = mp.cpu_count()\n",
    "    EPOCHS = 3\n",
    "    IMG_SIZE = (224,224)\n",
    "    LABEL_MASK = -100\n",
    "    TOP_K = 1000\n",
    "    TOP_P = 0.95"
   ]
  },
  {
   "cell_type": "markdown",
   "id": "a459b51c",
   "metadata": {
    "papermill": {
     "duration": 0.010413,
     "end_time": "2023-05-25T11:17:29.987219",
     "exception": false,
     "start_time": "2023-05-25T11:17:29.976806",
     "status": "completed"
    },
    "tags": []
   },
   "source": [
    "<a id=\"3\"></a>\n",
    "# <p style=\"background-color:#422711;font-family:newtimeroman;color:#F6923D;font-size:140%;text-align:center;border-radius:200px 10px;\">3. HELPER FUNCTIONS</p>\n",
    "#### [Top ↑](#top)"
   ]
  },
  {
   "cell_type": "markdown",
   "id": "2e6e980f",
   "metadata": {
    "papermill": {
     "duration": 0.010482,
     "end_time": "2023-05-25T11:17:30.008431",
     "exception": false,
     "start_time": "2023-05-25T11:17:29.997949",
     "status": "completed"
    },
    "tags": []
   },
   "source": [
    "<font size = 3><span style=\"color:#3A3E59;font-family:'Times New Roman'\"> There are Two helper functions:  </span></font>\n",
    "1. <font size = 3><span style=\"color:#3A3E59;font-family:'Times New Roman'\"> The first function is to <b>build special tokens</b> while tokenizing the captions  </span></font>\n",
    "2. <font size = 3><span style=\"color:#3A3E59;font-family:'Times New Roman'\">The second function is used to compute the <b>ROUGE-2</b> metrics as we are working with Transformers  </span></font>"
   ]
  },
  {
   "cell_type": "code",
   "execution_count": 4,
   "id": "4cc0cfee",
   "metadata": {
    "_kg_hide-input": true,
    "execution": {
     "iopub.execute_input": "2023-05-25T11:17:30.032371Z",
     "iopub.status.busy": "2023-05-25T11:17:30.030711Z",
     "iopub.status.idle": "2023-05-25T11:17:30.036634Z",
     "shell.execute_reply": "2023-05-25T11:17:30.035689Z"
    },
    "papermill": {
     "duration": 0.019716,
     "end_time": "2023-05-25T11:17:30.038762",
     "exception": false,
     "start_time": "2023-05-25T11:17:30.019046",
     "status": "completed"
    },
    "tags": []
   },
   "outputs": [],
   "source": [
    "def build_inputs_with_special_tokens(self, token_ids_0, token_ids_1=None):\n",
    "    outputs = [self.bos_token_id] + token_ids_0 + [self.eos_token_id]\n",
    "    return outputs\n",
    "AutoTokenizer.build_inputs_with_special_tokens = build_inputs_with_special_tokens"
   ]
  },
  {
   "cell_type": "code",
   "execution_count": 5,
   "id": "3261fcdc",
   "metadata": {
    "_kg_hide-input": true,
    "_kg_hide-output": true,
    "execution": {
     "iopub.execute_input": "2023-05-25T11:17:30.061657Z",
     "iopub.status.busy": "2023-05-25T11:17:30.060866Z",
     "iopub.status.idle": "2023-05-25T11:17:31.091556Z",
     "shell.execute_reply": "2023-05-25T11:17:31.090559Z"
    },
    "papermill": {
     "duration": 1.044803,
     "end_time": "2023-05-25T11:17:31.094065",
     "exception": false,
     "start_time": "2023-05-25T11:17:30.049262",
     "status": "completed"
    },
    "tags": []
   },
   "outputs": [
    {
     "data": {
      "application/vnd.jupyter.widget-view+json": {
       "model_id": "4e9d5d7271254d2eb0b326a0669b69ca",
       "version_major": 2,
       "version_minor": 0
      },
      "text/plain": [
       "Downloading builder script:   0%|          | 0.00/2.16k [00:00<?, ?B/s]"
      ]
     },
     "metadata": {},
     "output_type": "display_data"
    }
   ],
   "source": [
    "rouge = datasets.load_metric(\"rouge\")\n",
    "\n",
    "def compute_metrics(pred):\n",
    "    labels_ids = pred.label_ids\n",
    "    pred_ids = pred.predictions\n",
    "\n",
    "    # all unnecessary tokens are removed\n",
    "    pred_str = tokenizer.batch_decode(pred_ids, skip_special_tokens=True)\n",
    "    labels_ids[labels_ids == -100] = tokenizer.pad_token_id\n",
    "    label_str = tokenizer.batch_decode(labels_ids, skip_special_tokens=True)\n",
    "\n",
    "    rouge_output = rouge.compute(predictions=pred_str, references=label_str, rouge_types=[\"rouge2\"])[\"rouge2\"].mid\n",
    "\n",
    "    return {\n",
    "        \"rouge2_precision\": round(rouge_output.precision, 4),\n",
    "        \"rouge2_recall\": round(rouge_output.recall, 4),\n",
    "        \"rouge2_fmeasure\": round(rouge_output.fmeasure, 4),\n",
    "    }\n"
   ]
  },
  {
   "cell_type": "markdown",
   "id": "32464173",
   "metadata": {
    "papermill": {
     "duration": 0.010595,
     "end_time": "2023-05-25T11:17:31.115854",
     "exception": false,
     "start_time": "2023-05-25T11:17:31.105259",
     "status": "completed"
    },
    "tags": []
   },
   "source": [
    "<a id=\"4\"></a>\n",
    "# <p style=\"background-color:#422711;font-family:newtimeroman;color:#F6923D;font-size:140%;text-align:center;border-radius:200px 10px;\">4. DATASET</p>\n"
   ]
  },
  {
   "cell_type": "markdown",
   "id": "2327b654",
   "metadata": {
    "papermill": {
     "duration": 0.010585,
     "end_time": "2023-05-25T11:17:31.137104",
     "exception": false,
     "start_time": "2023-05-25T11:17:31.126519",
     "status": "completed"
    },
    "tags": []
   },
   "source": [
    "<a id=\"4.4\"></a>\n",
    "## <font size = 5><span style=\"color:#A8642A;font-family:'Times New Roman'\">4.1 Feature Extractor and Tokenizer : </span></font>\n",
    "#### [Top ↑](#top)"
   ]
  },
  {
   "cell_type": "markdown",
   "id": "3b5d72f8",
   "metadata": {
    "papermill": {
     "duration": 0.010458,
     "end_time": "2023-05-25T11:17:31.158170",
     "exception": false,
     "start_time": "2023-05-25T11:17:31.147712",
     "status": "completed"
    },
    "tags": []
   },
   "source": [
    "1. <font size = 3><span style=\"color:#3A3E59;font-family:'Times New Roman'\"> The Feature extractor is loaded using <b>ViTFeatureExtractor</b>  </span></font>\n",
    "2. <font size = 3><span style=\"color:#3A3E59;font-family:'Times New Roman'\">The tokenizer for GPT2 is loaded using the <b>AutoTokenizer</b>  </span></font>"
   ]
  },
  {
   "cell_type": "code",
   "execution_count": 6,
   "id": "b268b3ef",
   "metadata": {
    "_kg_hide-input": true,
    "execution": {
     "iopub.execute_input": "2023-05-25T11:17:31.180758Z",
     "iopub.status.busy": "2023-05-25T11:17:31.180418Z",
     "iopub.status.idle": "2023-05-25T11:17:34.814746Z",
     "shell.execute_reply": "2023-05-25T11:17:34.813719Z"
    },
    "papermill": {
     "duration": 3.648761,
     "end_time": "2023-05-25T11:17:34.817516",
     "exception": false,
     "start_time": "2023-05-25T11:17:31.168755",
     "status": "completed"
    },
    "tags": []
   },
   "outputs": [
    {
     "data": {
      "application/vnd.jupyter.widget-view+json": {
       "model_id": "b89548a2ccbc46018b4170d9f7fd9fd8",
       "version_major": 2,
       "version_minor": 0
      },
      "text/plain": [
       "Downloading:   0%|          | 0.00/160 [00:00<?, ?B/s]"
      ]
     },
     "metadata": {},
     "output_type": "display_data"
    },
    {
     "data": {
      "application/vnd.jupyter.widget-view+json": {
       "model_id": "b21cec18f136447094ce4cf01d658e94",
       "version_major": 2,
       "version_minor": 0
      },
      "text/plain": [
       "Downloading:   0%|          | 0.00/665 [00:00<?, ?B/s]"
      ]
     },
     "metadata": {},
     "output_type": "display_data"
    },
    {
     "data": {
      "application/vnd.jupyter.widget-view+json": {
       "model_id": "bc758f3069534fb68ae9c0fa3449e583",
       "version_major": 2,
       "version_minor": 0
      },
      "text/plain": [
       "Downloading:   0%|          | 0.00/0.99M [00:00<?, ?B/s]"
      ]
     },
     "metadata": {},
     "output_type": "display_data"
    },
    {
     "data": {
      "application/vnd.jupyter.widget-view+json": {
       "model_id": "ab85f6eb80d841c3a0c68c3ad2a97f3d",
       "version_major": 2,
       "version_minor": 0
      },
      "text/plain": [
       "Downloading:   0%|          | 0.00/446k [00:00<?, ?B/s]"
      ]
     },
     "metadata": {},
     "output_type": "display_data"
    },
    {
     "data": {
      "application/vnd.jupyter.widget-view+json": {
       "model_id": "6daeacb34f7b47b6bed750b4f975bc85",
       "version_major": 2,
       "version_minor": 0
      },
      "text/plain": [
       "Downloading:   0%|          | 0.00/1.29M [00:00<?, ?B/s]"
      ]
     },
     "metadata": {},
     "output_type": "display_data"
    }
   ],
   "source": [
    "feature_extractor = ViTFeatureExtractor.from_pretrained(config.ENCODER)\n",
    "tokenizer = AutoTokenizer.from_pretrained(config.DECODER)\n",
    "tokenizer.pad_token = tokenizer.unk_token"
   ]
  },
  {
   "cell_type": "markdown",
   "id": "77d286e6",
   "metadata": {
    "papermill": {
     "duration": 0.011793,
     "end_time": "2023-05-25T11:17:34.841406",
     "exception": false,
     "start_time": "2023-05-25T11:17:34.829613",
     "status": "completed"
    },
    "tags": []
   },
   "source": [
    "<a id=\"4.1\"></a>\n",
    "## <font size = 5><span style=\"color:#A8642A;font-family:'Times New Roman'\">4.2 Transforms and dataframe : </span></font>\n",
    "#### [Top ↑](#top)"
   ]
  },
  {
   "cell_type": "markdown",
   "id": "262adbd5",
   "metadata": {
    "papermill": {
     "duration": 0.011308,
     "end_time": "2023-05-25T11:17:34.864392",
     "exception": false,
     "start_time": "2023-05-25T11:17:34.853084",
     "status": "completed"
    },
    "tags": []
   },
   "source": [
    " <font size = 3><span style=\"color:#3A3E59;font-family:'Times New Roman'\">The Transformations used are </span></font>\n",
    "> 1. <font size = 3><span style=\"color:#3A3E59;font-family:'Times New Roman'\"><b>Resizing</b> the image to (224,224) </span></font>\n",
    "2. <font size = 3><span style=\"color:#3A3E59;font-family:'Times New Roman'\"><b>Normalizing</b> the image</span></font>\n",
    "3. <font size = 3><span style=\"color:#3A3E59;font-family:'Times New Roman'\"> Converting the image to <b>Tensor</b>  </span></font>"
   ]
  },
  {
   "cell_type": "code",
   "execution_count": 7,
   "id": "05b92635",
   "metadata": {
    "_kg_hide-input": true,
    "execution": {
     "iopub.execute_input": "2023-05-25T11:17:34.890811Z",
     "iopub.status.busy": "2023-05-25T11:17:34.889795Z",
     "iopub.status.idle": "2023-05-25T11:17:35.019352Z",
     "shell.execute_reply": "2023-05-25T11:17:35.018321Z"
    },
    "papermill": {
     "duration": 0.145491,
     "end_time": "2023-05-25T11:17:35.021607",
     "exception": false,
     "start_time": "2023-05-25T11:17:34.876116",
     "status": "completed"
    },
    "tags": []
   },
   "outputs": [
    {
     "data": {
      "text/html": [
       "<div>\n",
       "<style scoped>\n",
       "    .dataframe tbody tr th:only-of-type {\n",
       "        vertical-align: middle;\n",
       "    }\n",
       "\n",
       "    .dataframe tbody tr th {\n",
       "        vertical-align: top;\n",
       "    }\n",
       "\n",
       "    .dataframe thead th {\n",
       "        text-align: right;\n",
       "    }\n",
       "</style>\n",
       "<table border=\"1\" class=\"dataframe\">\n",
       "  <thead>\n",
       "    <tr style=\"text-align: right;\">\n",
       "      <th></th>\n",
       "      <th>image</th>\n",
       "      <th>caption</th>\n",
       "    </tr>\n",
       "  </thead>\n",
       "  <tbody>\n",
       "    <tr>\n",
       "      <th>0</th>\n",
       "      <td>1000268201_693b08cb0e.jpg</td>\n",
       "      <td>A child in a pink dress is climbing up a set o...</td>\n",
       "    </tr>\n",
       "    <tr>\n",
       "      <th>1</th>\n",
       "      <td>1000268201_693b08cb0e.jpg</td>\n",
       "      <td>A girl going into a wooden building .</td>\n",
       "    </tr>\n",
       "    <tr>\n",
       "      <th>2</th>\n",
       "      <td>1000268201_693b08cb0e.jpg</td>\n",
       "      <td>A little girl climbing into a wooden playhouse .</td>\n",
       "    </tr>\n",
       "    <tr>\n",
       "      <th>3</th>\n",
       "      <td>1000268201_693b08cb0e.jpg</td>\n",
       "      <td>A little girl climbing the stairs to her playh...</td>\n",
       "    </tr>\n",
       "    <tr>\n",
       "      <th>4</th>\n",
       "      <td>1000268201_693b08cb0e.jpg</td>\n",
       "      <td>A little girl in a pink dress going into a woo...</td>\n",
       "    </tr>\n",
       "  </tbody>\n",
       "</table>\n",
       "</div>"
      ],
      "text/plain": [
       "                       image  \\\n",
       "0  1000268201_693b08cb0e.jpg   \n",
       "1  1000268201_693b08cb0e.jpg   \n",
       "2  1000268201_693b08cb0e.jpg   \n",
       "3  1000268201_693b08cb0e.jpg   \n",
       "4  1000268201_693b08cb0e.jpg   \n",
       "\n",
       "                                             caption  \n",
       "0  A child in a pink dress is climbing up a set o...  \n",
       "1              A girl going into a wooden building .  \n",
       "2   A little girl climbing into a wooden playhouse .  \n",
       "3  A little girl climbing the stairs to her playh...  \n",
       "4  A little girl in a pink dress going into a woo...  "
      ]
     },
     "execution_count": 7,
     "metadata": {},
     "output_type": "execute_result"
    }
   ],
   "source": [
    "transforms = transforms.Compose(\n",
    "    [\n",
    "        transforms.Resize(config.IMG_SIZE), \n",
    "        transforms.ToTensor(),\n",
    "        transforms.Normalize(\n",
    "            mean=0.5, \n",
    "            std=0.5\n",
    "        )\n",
    "   ]\n",
    ")\n",
    "df=  pd.read_csv(\"/kaggle/input/flickr8k/captions.txt\")\n",
    "train_df , val_df = train_test_split(df , test_size = 0.2)\n",
    "df.head()"
   ]
  },
  {
   "cell_type": "markdown",
   "id": "e4088a32",
   "metadata": {
    "papermill": {
     "duration": 0.012229,
     "end_time": "2023-05-25T11:17:35.046114",
     "exception": false,
     "start_time": "2023-05-25T11:17:35.033885",
     "status": "completed"
    },
    "tags": []
   },
   "source": [
    "<a id=\"4.2\"></a>\n",
    "## <font size = 5><span style=\"color:#A8642A;font-family:'Times New Roman'\">4.3 Dataset Class : </span></font>\n",
    "#### [Top ↑](#top)"
   ]
  },
  {
   "cell_type": "markdown",
   "id": "3632f7ae",
   "metadata": {
    "papermill": {
     "duration": 0.011702,
     "end_time": "2023-05-25T11:17:35.069743",
     "exception": false,
     "start_time": "2023-05-25T11:17:35.058041",
     "status": "completed"
    },
    "tags": []
   },
   "source": [
    "<font size = 3><span style=\"color:#3A3E59;font-family:'Times New Roman'\">The dataset is created using the following steps </span></font>\n",
    "> 1. <font size = 3><span style=\"color:#3A3E59;font-family:'Times New Roman'\">We read the image using the <b>Image</b> function of PIL library </span></font>\n",
    "2. <font size = 3><span style=\"color:#3A3E59;font-family:'Times New Roman'\"> The image is <b>transformed</b> using the transformed defined above</span></font>\n",
    "3. <font size = 3><span style=\"color:#3A3E59;font-family:'Times New Roman'\">The transformed image is passed through the <b>feature extractor</b> to extract the pixel values from the image </span></font>\n",
    "4. <font size = 3><span style=\"color:#3A3E59;font-family:'Times New Roman'\"> The captions are loaded from the dataframe</span></font>\n",
    "5. <font size = 3><span style = \"color:#3A3E59;font-family:'Times New Roman'\">The captions are <b>tokenized</b></span></font>\n",
    "6. <font size = 3><span style = \"color:#3A3E59;font-family:'Times New Roman'\">The tokenized captions are <b>padded</b> to max length</span></font>\n",
    "7. <font size = 3><span style = \"color:#3A3E59;font-family:'Times New Roman'\">The images and tokenized captions are returned</span></font>"
   ]
  },
  {
   "cell_type": "code",
   "execution_count": 8,
   "id": "4d2abc9a",
   "metadata": {
    "_kg_hide-input": false,
    "execution": {
     "iopub.execute_input": "2023-05-25T11:17:35.094774Z",
     "iopub.status.busy": "2023-05-25T11:17:35.094417Z",
     "iopub.status.idle": "2023-05-25T11:17:35.105449Z",
     "shell.execute_reply": "2023-05-25T11:17:35.104427Z"
    },
    "papermill": {
     "duration": 0.026009,
     "end_time": "2023-05-25T11:17:35.107588",
     "exception": false,
     "start_time": "2023-05-25T11:17:35.081579",
     "status": "completed"
    },
    "tags": []
   },
   "outputs": [],
   "source": [
    "class ImgDataset(Dataset):\n",
    "    def __init__(self, df,root_dir,tokenizer,feature_extractor, transform = None):\n",
    "        self.df = df\n",
    "        self.transform = transform\n",
    "        self.root_dir = root_dir\n",
    "        self.tokenizer= tokenizer\n",
    "        self.feature_extractor = feature_extractor\n",
    "        self.max_length = 50\n",
    "    def __len__(self,):\n",
    "        return len(self.df)\n",
    "    def __getitem__(self,idx):\n",
    "        caption = self.df.caption.iloc[idx]\n",
    "        image = self.df.image.iloc[idx]\n",
    "        img_path = os.path.join(self.root_dir , image)\n",
    "        img = Image.open(img_path).convert(\"RGB\")\n",
    "        \n",
    "        if self.transform is not None:\n",
    "            img= self.transform(img)\n",
    "        pixel_values = self.feature_extractor(img, return_tensors=\"pt\").pixel_values\n",
    "        captions = self.tokenizer(caption,\n",
    "                                 padding='max_length',\n",
    "                                 max_length=self.max_length).input_ids\n",
    "        captions = [caption if caption != self.tokenizer.pad_token_id else -100 for caption in captions]\n",
    "        encoding = {\"pixel_values\": pixel_values.squeeze(), \"labels\": torch.tensor(captions)}\n",
    "        return encoding\n",
    "        \n",
    "        "
   ]
  },
  {
   "cell_type": "markdown",
   "id": "fb72401b",
   "metadata": {
    "papermill": {
     "duration": 0.011506,
     "end_time": "2023-05-25T11:17:35.130810",
     "exception": false,
     "start_time": "2023-05-25T11:17:35.119304",
     "status": "completed"
    },
    "tags": []
   },
   "source": [
    "<a id=\"4.3\"></a>\n",
    "## <font size = 5><span style=\"color:#A8642A;font-family:'Times New Roman'\">4.4 Train and validation dataset: </span></font>\n",
    "#### [Top ↑](#top)"
   ]
  },
  {
   "cell_type": "code",
   "execution_count": 9,
   "id": "ae6981d1",
   "metadata": {
    "_kg_hide-input": true,
    "execution": {
     "iopub.execute_input": "2023-05-25T11:17:35.155663Z",
     "iopub.status.busy": "2023-05-25T11:17:35.155326Z",
     "iopub.status.idle": "2023-05-25T11:17:35.160548Z",
     "shell.execute_reply": "2023-05-25T11:17:35.159623Z"
    },
    "papermill": {
     "duration": 0.019994,
     "end_time": "2023-05-25T11:17:35.162630",
     "exception": false,
     "start_time": "2023-05-25T11:17:35.142636",
     "status": "completed"
    },
    "tags": []
   },
   "outputs": [],
   "source": [
    "train_dataset = ImgDataset(train_df, root_dir = \"/kaggle/input/flickr8k/Images\",tokenizer=tokenizer,feature_extractor = feature_extractor ,transform = transforms)\n",
    "val_dataset = ImgDataset(val_df , root_dir = \"/kaggle/input/flickr8k/Images\",tokenizer=tokenizer,feature_extractor = feature_extractor , transform  = transforms)"
   ]
  },
  {
   "cell_type": "markdown",
   "id": "0ebaa186",
   "metadata": {
    "papermill": {
     "duration": 0.011573,
     "end_time": "2023-05-25T11:17:35.186130",
     "exception": false,
     "start_time": "2023-05-25T11:17:35.174557",
     "status": "completed"
    },
    "tags": []
   },
   "source": [
    "<a id=\"5\"></a>\n",
    "# <p style=\"background-color:#422711;font-family:newtimeroman;color:#F6923D;font-size:140%;text-align:center;border-radius:200px 10px;\">5. MODEL BUILDING</p>"
   ]
  },
  {
   "cell_type": "markdown",
   "id": "26de0b1d",
   "metadata": {
    "papermill": {
     "duration": 0.011569,
     "end_time": "2023-05-25T11:17:35.209586",
     "exception": false,
     "start_time": "2023-05-25T11:17:35.198017",
     "status": "completed"
    },
    "tags": []
   },
   "source": [
    "<p style=\"background-color:#422711;font-family:newtimeroman;color:#F6923D;font-size:100%;text-align:center;border-radius:200px 10px;\">ENCODER</p>\n",
    "<br>\n",
    "\n",
    "<img src = \"https://production-media.paperswithcode.com/methods/Screen_Shot_2021-01-26_at_9.43.31_PM_uI4jjMq.png\">\n",
    "\n",
    "<br>\n",
    "<font size = 3><span style = \"color:#3A3E59;font-family:'Times New Roman'\">The Vision Transformer, or ViT, is a model for image classification that employs a Transformer-like architecture over patches of the image. An image is split into fixed-size patches, each of them are then linearly embedded, position embeddings are added, and the resulting sequence of vectors is fed to a standard Transformer encoder. In order to perform classification, the standard approach of adding an extra learnable “classification token” to the sequence is used.</span></font>"
   ]
  },
  {
   "cell_type": "markdown",
   "id": "5a002101",
   "metadata": {
    "papermill": {
     "duration": 0.011551,
     "end_time": "2023-05-25T11:17:35.232875",
     "exception": false,
     "start_time": "2023-05-25T11:17:35.221324",
     "status": "completed"
    },
    "tags": []
   },
   "source": [
    "<p style=\"background-color:#422711;font-family:newtimeroman;color:#F6923D;font-size:100%;text-align:center;border-radius:200px 10px;\">DECODER</p>\n",
    "<br> \n",
    "\n",
    "<img src = \"https://i.stack.imgur.com/7J4O7.png\" >\n",
    "\n",
    "<br>\n",
    "\n",
    "<font size = 3><span style = \"color:#3A3E59;font-family:'Times New Roman'\">GPT-2 is a transformers model pretrained on a very large corpus of English data in a self-supervised fashion. inputs are sequences of continuous text of a certain length and the targets are the same sequence, shifted one token (word or piece of word) to the right. The model uses internally a mask-mechanism to make sure the predictions for the token i only uses the inputs from 1 to i but not the future tokens.</span></font>\n",
    "    \n",
    "<font size = 3><span style = \"color:#3A3E59;font-family:'Times New Roman'\">This way, the model learns an inner representation of the English language that can then be used to extract features useful for downstream tasks. The model is best at what it was pretrained for however, which is generating texts from a prompt.</span></font>\n",
    "    "
   ]
  },
  {
   "cell_type": "markdown",
   "id": "e9feb7fd",
   "metadata": {
    "papermill": {
     "duration": 0.011552,
     "end_time": "2023-05-25T11:17:35.256330",
     "exception": false,
     "start_time": "2023-05-25T11:17:35.244778",
     "status": "completed"
    },
    "tags": []
   },
   "source": [
    "<a id=\"5.1\"></a>\n",
    "## <font size = 5><span style=\"color:#A8642A;font-family:'Times New Roman'\">5.1 Model Initialization : </span></font>\n",
    "#### [Top ↑](#top)"
   ]
  },
  {
   "cell_type": "code",
   "execution_count": 10,
   "id": "bd3064a9",
   "metadata": {
    "_kg_hide-input": false,
    "_kg_hide-output": true,
    "execution": {
     "iopub.execute_input": "2023-05-25T11:17:35.282069Z",
     "iopub.status.busy": "2023-05-25T11:17:35.281122Z",
     "iopub.status.idle": "2023-05-25T11:18:02.273360Z",
     "shell.execute_reply": "2023-05-25T11:18:02.272317Z"
    },
    "papermill": {
     "duration": 27.007611,
     "end_time": "2023-05-25T11:18:02.275686",
     "exception": false,
     "start_time": "2023-05-25T11:17:35.268075",
     "status": "completed"
    },
    "tags": []
   },
   "outputs": [
    {
     "data": {
      "application/vnd.jupyter.widget-view+json": {
       "model_id": "78cbf4926c7d40508de7c4bb0dcf1afe",
       "version_major": 2,
       "version_minor": 0
      },
      "text/plain": [
       "Downloading:   0%|          | 0.00/68.0k [00:00<?, ?B/s]"
      ]
     },
     "metadata": {},
     "output_type": "display_data"
    },
    {
     "data": {
      "application/vnd.jupyter.widget-view+json": {
       "model_id": "62fd6bf2c8f6471795d55c21dd38b227",
       "version_major": 2,
       "version_minor": 0
      },
      "text/plain": [
       "Downloading:   0%|          | 0.00/330M [00:00<?, ?B/s]"
      ]
     },
     "metadata": {},
     "output_type": "display_data"
    },
    {
     "name": "stderr",
     "output_type": "stream",
     "text": [
      "Some weights of the model checkpoint at google/vit-base-patch16-224 were not used when initializing ViTModel: ['classifier.weight', 'classifier.bias']\n",
      "- This IS expected if you are initializing ViTModel from the checkpoint of a model trained on another task or with another architecture (e.g. initializing a BertForSequenceClassification model from a BertForPreTraining model).\n",
      "- This IS NOT expected if you are initializing ViTModel from the checkpoint of a model that you expect to be exactly identical (initializing a BertForSequenceClassification model from a BertForSequenceClassification model).\n"
     ]
    },
    {
     "name": "stderr",
     "output_type": "stream",
     "text": [
      "Some weights of ViTModel were not initialized from the model checkpoint at google/vit-base-patch16-224 and are newly initialized: ['vit.pooler.dense.bias', 'vit.pooler.dense.weight']\n",
      "You should probably TRAIN this model on a down-stream task to be able to use it for predictions and inference.\n"
     ]
    },
    {
     "data": {
      "application/vnd.jupyter.widget-view+json": {
       "model_id": "508cf1eb91c0442e9bf8826d3b44231f",
       "version_major": 2,
       "version_minor": 0
      },
      "text/plain": [
       "Downloading:   0%|          | 0.00/523M [00:00<?, ?B/s]"
      ]
     },
     "metadata": {},
     "output_type": "display_data"
    },
    {
     "name": "stderr",
     "output_type": "stream",
     "text": [
      "Some weights of GPT2LMHeadModel were not initialized from the model checkpoint at gpt2 and are newly initialized: ['h.4.crossattention.c_proj.bias', 'h.8.crossattention.masked_bias', 'h.10.crossattention.bias', 'h.10.crossattention.c_attn.weight', 'h.11.crossattention.q_attn.weight', 'h.5.crossattention.c_attn.weight', 'h.2.crossattention.c_attn.weight', 'h.3.crossattention.c_attn.weight', 'h.2.crossattention.c_proj.weight', 'h.1.crossattention.c_proj.weight', 'h.4.crossattention.q_attn.weight', 'h.6.crossattention.masked_bias', 'h.7.crossattention.c_proj.weight', 'h.2.ln_cross_attn.weight', 'h.4.crossattention.c_proj.weight', 'h.10.ln_cross_attn.weight', 'h.2.crossattention.q_attn.weight', 'h.11.crossattention.c_attn.weight', 'h.9.crossattention.c_proj.bias', 'h.2.crossattention.c_proj.bias', 'h.11.crossattention.c_proj.bias', 'h.9.crossattention.c_proj.weight', 'h.6.crossattention.c_proj.weight', 'h.6.ln_cross_attn.weight', 'h.11.crossattention.bias', 'h.5.crossattention.c_proj.weight', 'h.4.crossattention.masked_bias', 'h.3.ln_cross_attn.weight', 'h.0.crossattention.bias', 'h.4.crossattention.c_attn.weight', 'h.7.crossattention.masked_bias', 'h.1.crossattention.bias', 'h.9.ln_cross_attn.weight', 'h.10.crossattention.q_attn.weight', 'h.10.crossattention.masked_bias', 'h.5.crossattention.masked_bias', 'h.5.crossattention.q_attn.weight', 'h.0.crossattention.masked_bias', 'h.5.crossattention.bias', 'h.9.crossattention.q_attn.weight', 'h.7.crossattention.q_attn.weight', 'h.9.crossattention.bias', 'h.0.crossattention.c_attn.weight', 'h.8.ln_cross_attn.weight', 'h.6.crossattention.bias', 'h.4.ln_cross_attn.weight', 'h.4.crossattention.bias', 'h.1.crossattention.c_proj.bias', 'h.0.ln_cross_attn.weight', 'h.2.crossattention.bias', 'h.8.crossattention.q_attn.weight', 'h.5.ln_cross_attn.weight', 'h.8.crossattention.bias', 'h.0.crossattention.q_attn.weight', 'h.7.crossattention.c_attn.weight', 'h.3.crossattention.masked_bias', 'h.1.crossattention.c_attn.weight', 'h.10.crossattention.c_proj.bias', 'h.11.crossattention.masked_bias', 'h.3.crossattention.c_proj.bias', 'h.0.crossattention.c_proj.weight', 'h.3.crossattention.bias', 'h.2.crossattention.masked_bias', 'h.6.crossattention.c_attn.weight', 'h.1.crossattention.q_attn.weight', 'h.7.crossattention.c_proj.bias', 'h.8.crossattention.c_proj.bias', 'h.7.crossattention.bias', 'h.3.crossattention.c_proj.weight', 'h.11.crossattention.c_proj.weight', 'h.7.ln_cross_attn.weight', 'h.11.ln_cross_attn.weight', 'h.6.crossattention.q_attn.weight', 'h.1.ln_cross_attn.weight', 'h.10.crossattention.c_proj.weight', 'h.8.crossattention.c_attn.weight', 'h.9.crossattention.c_attn.weight', 'h.3.crossattention.q_attn.weight', 'h.9.crossattention.masked_bias', 'h.0.crossattention.c_proj.bias', 'h.8.crossattention.c_proj.weight', 'h.5.crossattention.c_proj.bias', 'h.1.crossattention.masked_bias', 'h.6.crossattention.c_proj.bias']\n",
      "You should probably TRAIN this model on a down-stream task to be able to use it for predictions and inference.\n"
     ]
    }
   ],
   "source": [
    "model = VisionEncoderDecoderModel.from_encoder_decoder_pretrained(config.ENCODER, config.DECODER)"
   ]
  },
  {
   "cell_type": "code",
   "execution_count": 11,
   "id": "13e998ce",
   "metadata": {
    "_kg_hide-input": true,
    "execution": {
     "iopub.execute_input": "2023-05-25T11:18:02.309464Z",
     "iopub.status.busy": "2023-05-25T11:18:02.308580Z",
     "iopub.status.idle": "2023-05-25T11:18:02.316258Z",
     "shell.execute_reply": "2023-05-25T11:18:02.315333Z"
    },
    "papermill": {
     "duration": 0.026209,
     "end_time": "2023-05-25T11:18:02.318454",
     "exception": false,
     "start_time": "2023-05-25T11:18:02.292245",
     "status": "completed"
    },
    "tags": []
   },
   "outputs": [],
   "source": [
    "model.config.decoder_start_token_id = tokenizer.cls_token_id\n",
    "model.config.pad_token_id = tokenizer.pad_token_id\n",
    "# make sure vocab size is set correctly\n",
    "model.config.vocab_size = model.config.decoder.vocab_size\n",
    "# set beam search parameters\n",
    "model.config.eos_token_id = tokenizer.sep_token_id\n",
    "model.config.decoder_start_token_id = tokenizer.bos_token_id\n",
    "model.config.max_length = 128\n",
    "model.config.early_stopping = True\n",
    "model.config.no_repeat_ngram_size = 3\n",
    "model.config.length_penalty = 2.0\n",
    "model.config.num_beams = 4"
   ]
  },
  {
   "cell_type": "markdown",
   "id": "ea647613",
   "metadata": {
    "papermill": {
     "duration": 0.012234,
     "end_time": "2023-05-25T11:18:02.343337",
     "exception": false,
     "start_time": "2023-05-25T11:18:02.331103",
     "status": "completed"
    },
    "tags": []
   },
   "source": [
    "<a id=\"6\"></a>\n",
    "# <p style=\"background-color:#422711;font-family:newtimeroman;color:#F6923D;font-size:140%;text-align:center;border-radius:200px 10px;\">6. TRAINING</p>"
   ]
  },
  {
   "cell_type": "markdown",
   "id": "e73999b0",
   "metadata": {
    "papermill": {
     "duration": 0.01226,
     "end_time": "2023-05-25T11:18:02.368234",
     "exception": false,
     "start_time": "2023-05-25T11:18:02.355974",
     "status": "completed"
    },
    "tags": []
   },
   "source": [
    "<a id=\"6.1\"></a>\n",
    "### <font size = 5><span style=\"color:#A8642A;font-family:'Times New Roman'\">6.1 Training Arguments : </span></font>\n",
    "#### [Top ↑](#top)"
   ]
  },
  {
   "cell_type": "code",
   "execution_count": 12,
   "id": "7c74b367",
   "metadata": {
    "_kg_hide-input": true,
    "execution": {
     "iopub.execute_input": "2023-05-25T11:18:02.395112Z",
     "iopub.status.busy": "2023-05-25T11:18:02.394190Z",
     "iopub.status.idle": "2023-05-25T11:18:02.405836Z",
     "shell.execute_reply": "2023-05-25T11:18:02.404953Z"
    },
    "papermill": {
     "duration": 0.027313,
     "end_time": "2023-05-25T11:18:02.407984",
     "exception": false,
     "start_time": "2023-05-25T11:18:02.380671",
     "status": "completed"
    },
    "tags": []
   },
   "outputs": [
    {
     "name": "stderr",
     "output_type": "stream",
     "text": [
      "Using the `WAND_DISABLED` environment variable is deprecated and will be removed in v5. Use the --report_to flag to control the integrations used for logging result (for instance --report_to none).\n"
     ]
    }
   ],
   "source": [
    "training_args = Seq2SeqTrainingArguments(\n",
    "    output_dir='VIT_large_gpt2',\n",
    "    per_device_train_batch_size=config.TRAIN_BATCH_SIZE,\n",
    "    per_device_eval_batch_size=config.VAL_BATCH_SIZE,\n",
    "    predict_with_generate=True,\n",
    "    evaluation_strategy=\"epoch\",\n",
    "    do_train=True,\n",
    "    do_eval=True,\n",
    "    logging_steps=1024,  \n",
    "    save_steps=2048, \n",
    "    warmup_steps=1024,  \n",
    "    learning_rate = 5e-5,\n",
    "    #max_steps=1500, # delete for full training\n",
    "    num_train_epochs = config.EPOCHS, #TRAIN_EPOCHS\n",
    "    overwrite_output_dir=True,\n",
    "    save_total_limit=1,\n",
    ")"
   ]
  },
  {
   "cell_type": "markdown",
   "id": "714b1461",
   "metadata": {
    "papermill": {
     "duration": 0.0123,
     "end_time": "2023-05-25T11:18:02.432940",
     "exception": false,
     "start_time": "2023-05-25T11:18:02.420640",
     "status": "completed"
    },
    "tags": []
   },
   "source": [
    "<a id=\"6.2\"></a>\n",
    "### <font size = 5><span style=\"color:#A8642A;font-family:'Times New Roman'\">6.2 Training using Seq2SeqTrainer : </span></font>\n",
    "#### [Top ↑](#top)"
   ]
  },
  {
   "cell_type": "code",
   "execution_count": 13,
   "id": "2cf9a414",
   "metadata": {
    "execution": {
     "iopub.execute_input": "2023-05-25T11:18:02.459667Z",
     "iopub.status.busy": "2023-05-25T11:18:02.458857Z"
    },
    "papermill": {
     "duration": null,
     "end_time": null,
     "exception": false,
     "start_time": "2023-05-25T11:18:02.445538",
     "status": "running"
    },
    "tags": []
   },
   "outputs": [
    {
     "name": "stderr",
     "output_type": "stream",
     "text": [
      "/opt/conda/lib/python3.7/site-packages/transformers/optimization.py:310: FutureWarning: This implementation of AdamW is deprecated and will be removed in a future version. Use the PyTorch implementation torch.optim.AdamW instead, or set `no_deprecation_warning=True` to disable this warning\n",
      "  FutureWarning,\n",
      "***** Running training *****\n"
     ]
    },
    {
     "name": "stderr",
     "output_type": "stream",
     "text": [
      "  Num examples = 32364\n"
     ]
    },
    {
     "name": "stderr",
     "output_type": "stream",
     "text": [
      "  Num Epochs = 3\n"
     ]
    },
    {
     "name": "stderr",
     "output_type": "stream",
     "text": [
      "  Instantaneous batch size per device = 8\n"
     ]
    },
    {
     "name": "stderr",
     "output_type": "stream",
     "text": [
      "  Total train batch size (w. parallel, distributed & accumulation) = 8\n"
     ]
    },
    {
     "name": "stderr",
     "output_type": "stream",
     "text": [
      "  Gradient Accumulation steps = 1\n"
     ]
    },
    {
     "name": "stderr",
     "output_type": "stream",
     "text": [
      "  Total optimization steps = 12138\n"
     ]
    },
    {
     "data": {
      "text/html": [
       "\n",
       "    <div>\n",
       "      \n",
       "      <progress value='1567' max='12138' style='width:300px; height:20px; vertical-align: middle;'></progress>\n",
       "      [ 1567/12138 11:53 < 1:20:16, 2.19 it/s, Epoch 0.39/3]\n",
       "    </div>\n",
       "    <table border=\"1\" class=\"dataframe\">\n",
       "  <thead>\n",
       " <tr style=\"text-align: left;\">\n",
       "      <th>Epoch</th>\n",
       "      <th>Training Loss</th>\n",
       "      <th>Validation Loss</th>\n",
       "    </tr>\n",
       "  </thead>\n",
       "  <tbody>\n",
       "  </tbody>\n",
       "</table><p>"
      ],
      "text/plain": [
       "<IPython.core.display.HTML object>"
      ]
     },
     "metadata": {},
     "output_type": "display_data"
    }
   ],
   "source": [
    "# instantiate trainer\n",
    "trainer = Seq2SeqTrainer(\n",
    "    tokenizer=feature_extractor,\n",
    "    model=model,\n",
    "    args=training_args,\n",
    "    compute_metrics=compute_metrics,\n",
    "    train_dataset=train_dataset,\n",
    "    eval_dataset=val_dataset,\n",
    "    data_collator=default_data_collator,\n",
    ")\n",
    "trainer.train()"
   ]
  },
  {
   "cell_type": "code",
   "execution_count": null,
   "id": "0b31e3d4",
   "metadata": {
    "_kg_hide-input": true,
    "execution": {
     "iopub.execute_input": "2023-05-25T10:00:04.520585Z",
     "iopub.status.busy": "2023-05-25T10:00:04.519388Z",
     "iopub.status.idle": "2023-05-25T10:00:06.280099Z",
     "shell.execute_reply": "2023-05-25T10:00:06.278993Z",
     "shell.execute_reply.started": "2023-05-25T10:00:04.520542Z"
    },
    "papermill": {
     "duration": null,
     "end_time": null,
     "exception": null,
     "start_time": null,
     "status": "pending"
    },
    "tags": []
   },
   "outputs": [],
   "source": [
    "trainer.save_model('VIT_large_gpt2')"
   ]
  },
  {
   "cell_type": "markdown",
   "id": "ed11cb7c",
   "metadata": {
    "papermill": {
     "duration": null,
     "end_time": null,
     "exception": null,
     "start_time": null,
     "status": "pending"
    },
    "tags": []
   },
   "source": [
    "<a id=\"7\"></a>\n",
    "# <p style=\"background-color:#422711;font-family:newtimeroman;color:#F6923D;font-size:140%;text-align:center;border-radius:200px 10px;\">7. PREDICTIONS</p>\n",
    "#### [Top ↑](#top)"
   ]
  },
  {
   "cell_type": "code",
   "execution_count": null,
   "id": "609d8d24",
   "metadata": {
    "_kg_hide-input": true,
    "execution": {
     "iopub.execute_input": "2023-05-25T10:00:11.585364Z",
     "iopub.status.busy": "2023-05-25T10:00:11.584983Z",
     "iopub.status.idle": "2023-05-25T10:00:11.669366Z",
     "shell.execute_reply": "2023-05-25T10:00:11.668527Z",
     "shell.execute_reply.started": "2023-05-25T10:00:11.585331Z"
    },
    "papermill": {
     "duration": null,
     "end_time": null,
     "exception": null,
     "start_time": null,
     "status": "pending"
    },
    "tags": []
   },
   "outputs": [],
   "source": [
    "img =  Image.open(\"/kaggle/input/flickr8k/Images/1001773457_577c3a7d70.jpg\").convert(\"RGB\")\n",
    "img"
   ]
  },
  {
   "cell_type": "code",
   "execution_count": null,
   "id": "5da4668f",
   "metadata": {
    "_kg_hide-input": true,
    "execution": {
     "iopub.execute_input": "2023-05-25T10:00:17.467089Z",
     "iopub.status.busy": "2023-05-25T10:00:17.466712Z",
     "iopub.status.idle": "2023-05-25T10:00:18.310542Z",
     "shell.execute_reply": "2023-05-25T10:00:18.309496Z",
     "shell.execute_reply.started": "2023-05-25T10:00:17.467056Z"
    },
    "papermill": {
     "duration": null,
     "end_time": null,
     "exception": null,
     "start_time": null,
     "status": "pending"
    },
    "tags": []
   },
   "outputs": [],
   "source": [
    "generated_caption = tokenizer.decode(model.generate(feature_extractor(img, return_tensors=\"pt\").pixel_values.to(\"cuda\"))[0])\n",
    "print('\\033[96m' +generated_caption[:85]+ '\\033[0m')"
   ]
  },
  {
   "cell_type": "code",
   "execution_count": null,
   "id": "5117c28c",
   "metadata": {
    "_kg_hide-input": true,
    "execution": {
     "iopub.execute_input": "2023-05-25T10:00:53.504151Z",
     "iopub.status.busy": "2023-05-25T10:00:53.503354Z",
     "iopub.status.idle": "2023-05-25T10:00:53.569867Z",
     "shell.execute_reply": "2023-05-25T10:00:53.568997Z",
     "shell.execute_reply.started": "2023-05-25T10:00:53.504107Z"
    },
    "papermill": {
     "duration": null,
     "end_time": null,
     "exception": null,
     "start_time": null,
     "status": "pending"
    },
    "tags": []
   },
   "outputs": [],
   "source": [
    "img =  Image.open(\"/kaggle/input/flickr8k/Images/1000268201_693b08cb0e.jpg\").convert(\"RGB\")\n",
    "img"
   ]
  },
  {
   "cell_type": "code",
   "execution_count": null,
   "id": "951a2071",
   "metadata": {
    "_kg_hide-input": true,
    "execution": {
     "iopub.execute_input": "2023-05-25T10:01:23.586770Z",
     "iopub.status.busy": "2023-05-25T10:01:23.585343Z",
     "iopub.status.idle": "2023-05-25T10:01:25.626483Z",
     "shell.execute_reply": "2023-05-25T10:01:25.625444Z",
     "shell.execute_reply.started": "2023-05-25T10:01:23.586714Z"
    },
    "papermill": {
     "duration": null,
     "end_time": null,
     "exception": null,
     "start_time": null,
     "status": "pending"
    },
    "tags": []
   },
   "outputs": [],
   "source": [
    "generated_caption = tokenizer.decode(model.generate(feature_extractor(img, return_tensors=\"pt\").pixel_values.to(\"cuda\"))[0])\n",
    "print('\\033[96m' +generated_caption[:100]+ '\\033[0m')"
   ]
  },
  {
   "cell_type": "code",
   "execution_count": null,
   "id": "5dbe18fc",
   "metadata": {
    "execution": {
     "iopub.execute_input": "2023-05-25T10:06:20.882578Z",
     "iopub.status.busy": "2023-05-25T10:06:20.882157Z",
     "iopub.status.idle": "2023-05-25T10:06:20.947919Z",
     "shell.execute_reply": "2023-05-25T10:06:20.946943Z",
     "shell.execute_reply.started": "2023-05-25T10:06:20.882540Z"
    },
    "papermill": {
     "duration": null,
     "end_time": null,
     "exception": null,
     "start_time": null,
     "status": "pending"
    },
    "tags": []
   },
   "outputs": [],
   "source": [
    "img =  Image.open(\"/kaggle/input/testimg1/graph.png\").convert(\"RGB\")\n",
    "img"
   ]
  },
  {
   "cell_type": "code",
   "execution_count": null,
   "id": "104f4919",
   "metadata": {
    "execution": {
     "iopub.execute_input": "2023-05-25T10:06:41.718214Z",
     "iopub.status.busy": "2023-05-25T10:06:41.717831Z",
     "iopub.status.idle": "2023-05-25T10:06:43.858783Z",
     "shell.execute_reply": "2023-05-25T10:06:43.857665Z",
     "shell.execute_reply.started": "2023-05-25T10:06:41.718181Z"
    },
    "papermill": {
     "duration": null,
     "end_time": null,
     "exception": null,
     "start_time": null,
     "status": "pending"
    },
    "tags": []
   },
   "outputs": [],
   "source": [
    "generated_caption = tokenizer.decode(model.generate(feature_extractor(img, return_tensors=\"pt\").pixel_values.to(\"cuda\"))[0])\n",
    "print('\\033[96m' +generated_caption[:100]+ '\\033[0m')"
   ]
  },
  {
   "cell_type": "code",
   "execution_count": null,
   "id": "33a54d7c",
   "metadata": {
    "execution": {
     "iopub.execute_input": "2023-05-25T10:49:52.283931Z",
     "iopub.status.busy": "2023-05-25T10:49:52.283474Z",
     "iopub.status.idle": "2023-05-25T10:49:52.383289Z",
     "shell.execute_reply": "2023-05-25T10:49:52.381807Z",
     "shell.execute_reply.started": "2023-05-25T10:49:52.283824Z"
    },
    "papermill": {
     "duration": null,
     "end_time": null,
     "exception": null,
     "start_time": null,
     "status": "pending"
    },
    "tags": []
   },
   "outputs": [],
   "source": [
    "img =  Image.open(\"/kaggle/input/testimg2/WhatsApp Image 2023-04-20 at 6.50.15 PM.jpeg\").convert(\"RGB\")\n",
    "img"
   ]
  },
  {
   "cell_type": "markdown",
   "id": "aa9e62a4",
   "metadata": {
    "papermill": {
     "duration": null,
     "end_time": null,
     "exception": null,
     "start_time": null,
     "status": "pending"
    },
    "tags": []
   },
   "source": []
  }
 ],
 "metadata": {
  "kernelspec": {
   "display_name": "Python 3",
   "language": "python",
   "name": "python3"
  },
  "language_info": {
   "codemirror_mode": {
    "name": "ipython",
    "version": 3
   },
   "file_extension": ".py",
   "mimetype": "text/x-python",
   "name": "python",
   "nbconvert_exporter": "python",
   "pygments_lexer": "ipython3",
   "version": "3.6.4"
  },
  "papermill": {
   "default_parameters": {},
   "duration": null,
   "end_time": null,
   "environment_variables": {},
   "exception": null,
   "input_path": "__notebook__.ipynb",
   "output_path": "__notebook__.ipynb",
   "parameters": {},
   "start_time": "2023-05-25T11:16:28.828341",
   "version": "2.3.4"
  }
 },
 "nbformat": 4,
 "nbformat_minor": 5
}